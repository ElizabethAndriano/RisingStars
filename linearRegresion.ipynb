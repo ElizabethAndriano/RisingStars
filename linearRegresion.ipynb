{
 "cells": [
  {
   "attachments": {},
   "cell_type": "markdown",
   "metadata": {},
   "source": [
    "# Librerías y configuración"
   ]
  },
  {
   "cell_type": "code",
   "execution_count": 1,
   "metadata": {},
   "outputs": [],
   "source": [
    "import numpy as np\n",
    "import pandas as pd\n",
    "import plotly.express as px\n",
    "import matplotlib.pyplot as plt\n",
    "import seaborn as sns\n",
    "import statsmodels.api as sm"
   ]
  },
  {
   "cell_type": "code",
   "execution_count": 50,
   "metadata": {},
   "outputs": [],
   "source": [
    "from sklearn.model_selection import train_test_split\n",
    "from sklearn.model_selection import train_test_split\n",
    "from sklearn.preprocessing import PolynomialFeatures\n",
    "from sklearn.preprocessing import StandardScaler\n",
    "from sklearn.linear_model import LinearRegression\n",
    "from sklearn.neighbors import KNeighborsRegressor\n",
    "from sklearn.ensemble import RandomForestRegressor\n",
    "from sklearn.metrics import mean_squared_error\n",
    "from sklearn.metrics import mean_absolute_error\n",
    "from sklearn.tree import DecisionTreeRegressor"
   ]
  },
  {
   "attachments": {},
   "cell_type": "markdown",
   "metadata": {},
   "source": [
    "# Lectura de datos "
   ]
  },
  {
   "cell_type": "code",
   "execution_count": 3,
   "metadata": {},
   "outputs": [
    {
     "data": {
      "text/html": [
       "<div>\n",
       "<style scoped>\n",
       "    .dataframe tbody tr th:only-of-type {\n",
       "        vertical-align: middle;\n",
       "    }\n",
       "\n",
       "    .dataframe tbody tr th {\n",
       "        vertical-align: top;\n",
       "    }\n",
       "\n",
       "    .dataframe thead th {\n",
       "        text-align: right;\n",
       "    }\n",
       "</style>\n",
       "<table border=\"1\" class=\"dataframe\">\n",
       "  <thead>\n",
       "    <tr style=\"text-align: right;\">\n",
       "      <th></th>\n",
       "      <th>Unnamed: 0</th>\n",
       "      <th>Scopus author ID</th>\n",
       "      <th>Most recent publication</th>\n",
       "      <th>Citations</th>\n",
       "      <th>Citations per Publication</th>\n",
       "      <th>Field-Weighted Citation Impact</th>\n",
       "      <th>h-index</th>\n",
       "      <th>Output in Top 10% Citation Percentiles (field-weighted)</th>\n",
       "      <th>Oldest publication (since 1996)</th>\n",
       "      <th>CiteScore</th>\n",
       "      <th>SNIP</th>\n",
       "      <th>h-index Ponderado</th>\n",
       "    </tr>\n",
       "  </thead>\n",
       "  <tbody>\n",
       "    <tr>\n",
       "      <th>0</th>\n",
       "      <td>0</td>\n",
       "      <td>10038895100</td>\n",
       "      <td>2017</td>\n",
       "      <td>36</td>\n",
       "      <td>36.0</td>\n",
       "      <td>2.13</td>\n",
       "      <td>1</td>\n",
       "      <td>12.0</td>\n",
       "      <td>2017</td>\n",
       "      <td>7.4</td>\n",
       "      <td>1.45</td>\n",
       "      <td>1.0</td>\n",
       "    </tr>\n",
       "    <tr>\n",
       "      <th>1</th>\n",
       "      <td>1</td>\n",
       "      <td>10039007800</td>\n",
       "      <td>2018</td>\n",
       "      <td>24</td>\n",
       "      <td>24.0</td>\n",
       "      <td>3.10</td>\n",
       "      <td>1</td>\n",
       "      <td>7.0</td>\n",
       "      <td>2018</td>\n",
       "      <td>3.5</td>\n",
       "      <td>1.19</td>\n",
       "      <td>1.0</td>\n",
       "    </tr>\n",
       "    <tr>\n",
       "      <th>2</th>\n",
       "      <td>2</td>\n",
       "      <td>10039013100</td>\n",
       "      <td>2020</td>\n",
       "      <td>0</td>\n",
       "      <td>0.0</td>\n",
       "      <td>0.00</td>\n",
       "      <td>0</td>\n",
       "      <td>71.0</td>\n",
       "      <td>2020</td>\n",
       "      <td>2.6</td>\n",
       "      <td>1.00</td>\n",
       "      <td>0.0</td>\n",
       "    </tr>\n",
       "    <tr>\n",
       "      <th>3</th>\n",
       "      <td>3</td>\n",
       "      <td>10039034400</td>\n",
       "      <td>2019</td>\n",
       "      <td>25</td>\n",
       "      <td>25.0</td>\n",
       "      <td>3.72</td>\n",
       "      <td>1</td>\n",
       "      <td>5.0</td>\n",
       "      <td>2019</td>\n",
       "      <td>2.7</td>\n",
       "      <td>0.88</td>\n",
       "      <td>1.0</td>\n",
       "    </tr>\n",
       "    <tr>\n",
       "      <th>4</th>\n",
       "      <td>4</td>\n",
       "      <td>10039108900</td>\n",
       "      <td>2021</td>\n",
       "      <td>6</td>\n",
       "      <td>6.0</td>\n",
       "      <td>1.63</td>\n",
       "      <td>1</td>\n",
       "      <td>18.0</td>\n",
       "      <td>2021</td>\n",
       "      <td>16.8</td>\n",
       "      <td>2.29</td>\n",
       "      <td>1.0</td>\n",
       "    </tr>\n",
       "  </tbody>\n",
       "</table>\n",
       "</div>"
      ],
      "text/plain": [
       "   Unnamed: 0  Scopus author ID  Most recent publication  Citations  \\\n",
       "0           0       10038895100                     2017         36   \n",
       "1           1       10039007800                     2018         24   \n",
       "2           2       10039013100                     2020          0   \n",
       "3           3       10039034400                     2019         25   \n",
       "4           4       10039108900                     2021          6   \n",
       "\n",
       "   Citations per Publication  Field-Weighted Citation Impact  h-index  \\\n",
       "0                       36.0                            2.13        1   \n",
       "1                       24.0                            3.10        1   \n",
       "2                        0.0                            0.00        0   \n",
       "3                       25.0                            3.72        1   \n",
       "4                        6.0                            1.63        1   \n",
       "\n",
       "   Output in Top 10% Citation Percentiles (field-weighted)  \\\n",
       "0                                               12.0         \n",
       "1                                                7.0         \n",
       "2                                               71.0         \n",
       "3                                                5.0         \n",
       "4                                               18.0         \n",
       "\n",
       "   Oldest publication (since 1996)  CiteScore  SNIP  h-index Ponderado  \n",
       "0                             2017        7.4  1.45                1.0  \n",
       "1                             2018        3.5  1.19                1.0  \n",
       "2                             2020        2.6  1.00                0.0  \n",
       "3                             2019        2.7  0.88                1.0  \n",
       "4                             2021       16.8  2.29                1.0  "
      ]
     },
     "execution_count": 3,
     "metadata": {},
     "output_type": "execute_result"
    }
   ],
   "source": [
    "df = pd.read_excel('Data/AllMetrics.xlsx')\n",
    "df.head()"
   ]
  },
  {
   "cell_type": "code",
   "execution_count": 4,
   "metadata": {},
   "outputs": [
    {
     "data": {
      "text/html": [
       "<div>\n",
       "<style scoped>\n",
       "    .dataframe tbody tr th:only-of-type {\n",
       "        vertical-align: middle;\n",
       "    }\n",
       "\n",
       "    .dataframe tbody tr th {\n",
       "        vertical-align: top;\n",
       "    }\n",
       "\n",
       "    .dataframe thead th {\n",
       "        text-align: right;\n",
       "    }\n",
       "</style>\n",
       "<table border=\"1\" class=\"dataframe\">\n",
       "  <thead>\n",
       "    <tr style=\"text-align: right;\">\n",
       "      <th></th>\n",
       "      <th>Citations</th>\n",
       "      <th>Citations per Publication</th>\n",
       "      <th>Field-Weighted Citation Impact</th>\n",
       "      <th>h-index</th>\n",
       "      <th>Output in Top 10% Citation Percentiles (field-weighted)</th>\n",
       "      <th>CiteScore</th>\n",
       "      <th>SNIP</th>\n",
       "      <th>h-index Ponderado</th>\n",
       "      <th>Career years</th>\n",
       "    </tr>\n",
       "    <tr>\n",
       "      <th>Scopus author ID</th>\n",
       "      <th></th>\n",
       "      <th></th>\n",
       "      <th></th>\n",
       "      <th></th>\n",
       "      <th></th>\n",
       "      <th></th>\n",
       "      <th></th>\n",
       "      <th></th>\n",
       "      <th></th>\n",
       "    </tr>\n",
       "  </thead>\n",
       "  <tbody>\n",
       "    <tr>\n",
       "      <th>10038895100</th>\n",
       "      <td>36</td>\n",
       "      <td>36.0</td>\n",
       "      <td>2.13</td>\n",
       "      <td>1</td>\n",
       "      <td>12.0</td>\n",
       "      <td>7.4</td>\n",
       "      <td>1.45</td>\n",
       "      <td>1.0</td>\n",
       "      <td>1</td>\n",
       "    </tr>\n",
       "    <tr>\n",
       "      <th>10039007800</th>\n",
       "      <td>24</td>\n",
       "      <td>24.0</td>\n",
       "      <td>3.10</td>\n",
       "      <td>1</td>\n",
       "      <td>7.0</td>\n",
       "      <td>3.5</td>\n",
       "      <td>1.19</td>\n",
       "      <td>1.0</td>\n",
       "      <td>1</td>\n",
       "    </tr>\n",
       "    <tr>\n",
       "      <th>10039013100</th>\n",
       "      <td>0</td>\n",
       "      <td>0.0</td>\n",
       "      <td>0.00</td>\n",
       "      <td>0</td>\n",
       "      <td>71.0</td>\n",
       "      <td>2.6</td>\n",
       "      <td>1.00</td>\n",
       "      <td>0.0</td>\n",
       "      <td>1</td>\n",
       "    </tr>\n",
       "    <tr>\n",
       "      <th>10039034400</th>\n",
       "      <td>25</td>\n",
       "      <td>25.0</td>\n",
       "      <td>3.72</td>\n",
       "      <td>1</td>\n",
       "      <td>5.0</td>\n",
       "      <td>2.7</td>\n",
       "      <td>0.88</td>\n",
       "      <td>1.0</td>\n",
       "      <td>1</td>\n",
       "    </tr>\n",
       "    <tr>\n",
       "      <th>10039108900</th>\n",
       "      <td>6</td>\n",
       "      <td>6.0</td>\n",
       "      <td>1.63</td>\n",
       "      <td>1</td>\n",
       "      <td>18.0</td>\n",
       "      <td>16.8</td>\n",
       "      <td>2.29</td>\n",
       "      <td>1.0</td>\n",
       "      <td>1</td>\n",
       "    </tr>\n",
       "  </tbody>\n",
       "</table>\n",
       "</div>"
      ],
      "text/plain": [
       "                  Citations  Citations per Publication  \\\n",
       "Scopus author ID                                         \n",
       "10038895100              36                       36.0   \n",
       "10039007800              24                       24.0   \n",
       "10039013100               0                        0.0   \n",
       "10039034400              25                       25.0   \n",
       "10039108900               6                        6.0   \n",
       "\n",
       "                  Field-Weighted Citation Impact  h-index  \\\n",
       "Scopus author ID                                            \n",
       "10038895100                                 2.13        1   \n",
       "10039007800                                 3.10        1   \n",
       "10039013100                                 0.00        0   \n",
       "10039034400                                 3.72        1   \n",
       "10039108900                                 1.63        1   \n",
       "\n",
       "                  Output in Top 10% Citation Percentiles (field-weighted)  \\\n",
       "Scopus author ID                                                            \n",
       "10038895100                                                    12.0         \n",
       "10039007800                                                     7.0         \n",
       "10039013100                                                    71.0         \n",
       "10039034400                                                     5.0         \n",
       "10039108900                                                    18.0         \n",
       "\n",
       "                  CiteScore  SNIP  h-index Ponderado  Career years  \n",
       "Scopus author ID                                                    \n",
       "10038895100             7.4  1.45                1.0             1  \n",
       "10039007800             3.5  1.19                1.0             1  \n",
       "10039013100             2.6  1.00                0.0             1  \n",
       "10039034400             2.7  0.88                1.0             1  \n",
       "10039108900            16.8  2.29                1.0             1  "
      ]
     },
     "execution_count": 4,
     "metadata": {},
     "output_type": "execute_result"
    }
   ],
   "source": [
    "df['Career years'] = df['Most recent publication'] - df['Oldest publication (since 1996)'] + 1\n",
    "\n",
    "cols = ['Unnamed: 0','Most recent publication','Oldest publication (since 1996)']\n",
    "df.drop(columns=cols,inplace=True)\n",
    "df.set_index('Scopus author ID',inplace=True)\n",
    "df.head()"
   ]
  },
  {
   "attachments": {},
   "cell_type": "markdown",
   "metadata": {},
   "source": [
    "# Entendimiento de los datos"
   ]
  },
  {
   "attachments": {},
   "cell_type": "markdown",
   "metadata": {},
   "source": [
    "Revisar multicolinealidad entre variables"
   ]
  },
  {
   "cell_type": "code",
   "execution_count": 5,
   "metadata": {},
   "outputs": [
    {
     "data": {
      "image/png": "[encoded data removed]",
      "text/plain": [
       "<Figure size 640x480 with 2 Axes>"
      ]
     },
     "metadata": {},
     "output_type": "display_data"
    }
   ],
   "source": [
    "cols = ['Citations','Citations per Publication','Field-Weighted Citation Impact',\n",
    "        'Output in Top 10% Citation Percentiles (field-weighted)',\n",
    "        'CiteScore','SNIP','h-index Ponderado','Career years']\n",
    "sns.heatmap(df[cols].corr(),annot=True,vmin=-1,vmax=1,cmap='coolwarm')\n",
    "plt.show()"
   ]
  },
  {
   "attachments": {},
   "cell_type": "markdown",
   "metadata": {},
   "source": [
    "Por la correlación entre SNIP y CiteScore, se quitará una de las columnas para el análisis"
   ]
  },
  {
   "cell_type": "code",
   "execution_count": 6,
   "metadata": {},
   "outputs": [],
   "source": [
    "df_ = df.drop(columns=['CiteScore'])"
   ]
  },
  {
   "attachments": {},
   "cell_type": "markdown",
   "metadata": {},
   "source": [
    "# Target h-index"
   ]
  },
  {
   "attachments": {},
   "cell_type": "markdown",
   "metadata": {},
   "source": [
    "Se elimina el h-index ponderado porque se calcula con el h-index que es el target"
   ]
  },
  {
   "cell_type": "code",
   "execution_count": 7,
   "metadata": {},
   "outputs": [],
   "source": [
    "df1 = df_.drop(columns=['h-index Ponderado'])"
   ]
  },
  {
   "attachments": {},
   "cell_type": "markdown",
   "metadata": {},
   "source": [
    "## Partición de base de datos"
   ]
  },
  {
   "cell_type": "code",
   "execution_count": 8,
   "metadata": {},
   "outputs": [],
   "source": [
    "target = ['h-index']\n",
    "X = df1.drop(columns=target)\n",
    "Y = df1[target]"
   ]
  },
  {
   "attachments": {},
   "cell_type": "markdown",
   "metadata": {},
   "source": [
    "## Regresión lineal Ordinary Least Squares (OLS)"
   ]
  },
  {
   "cell_type": "code",
   "execution_count": 9,
   "metadata": {},
   "outputs": [
    {
     "name": "stdout",
     "output_type": "stream",
     "text": [
      "                            OLS Regression Results                            \n",
      "==============================================================================\n",
      "Dep. Variable:                h-index   R-squared:                       0.732\n",
      "Model:                            OLS   Adj. R-squared:                  0.732\n",
      "Method:                 Least Squares   F-statistic:                 6.185e+04\n",
      "Date:                Wed, 15 Mar 2023   Prob (F-statistic):               0.00\n",
      "Time:                        01:49:12   Log-Likelihood:            -1.6759e+05\n",
      "No. Observations:              136109   AIC:                         3.352e+05\n",
      "Df Residuals:                  136102   BIC:                         3.353e+05\n",
      "Df Model:                           6                                         \n",
      "Covariance Type:            nonrobust                                         \n",
      "===========================================================================================================================\n",
      "                                                              coef    std err          t      P>|t|      [0.025      0.975]\n",
      "---------------------------------------------------------------------------------------------------------------------------\n",
      "const                                                       0.9817      0.009    107.396      0.000       0.964       1.000\n",
      "Citations                                                   0.0109   3.09e-05    351.805      0.000       0.011       0.011\n",
      "Citations per Publication                                  -0.0147      0.000    -99.553      0.000      -0.015      -0.014\n",
      "Field-Weighted Citation Impact                             -0.0196      0.002    -12.063      0.000      -0.023      -0.016\n",
      "Output in Top 10% Citation Percentiles (field-weighted)    -0.0157      0.000   -107.860      0.000      -0.016      -0.015\n",
      "SNIP                                                        0.0127      0.003      4.732      0.000       0.007       0.018\n",
      "Career years                                                0.6105      0.002    331.059      0.000       0.607       0.614\n",
      "==============================================================================\n",
      "Omnibus:                   165391.044   Durbin-Watson:                   1.960\n",
      "Prob(Omnibus):                  0.000   Jarque-Bera (JB):        986683299.001\n",
      "Skew:                          -5.265   Prob(JB):                         0.00\n",
      "Kurtosis:                     419.978   Cond. No.                         363.\n",
      "==============================================================================\n",
      "\n",
      "Notes:\n",
      "[1] Standard Errors assume that the covariance matrix of the errors is correctly specified.\n"
     ]
    }
   ],
   "source": [
    "Xc = sm.add_constant(X) #para obtener la ordenada en el origen\n",
    "model = sm.OLS(Y, Xc) #Ordinary Least Squares\n",
    "results = model.fit()\n",
    "print(results.summary())"
   ]
  },
  {
   "attachments": {},
   "cell_type": "markdown",
   "metadata": {},
   "source": [
    "El R² ajustado es medianamente bueno, pero el Jarque-Bera es demasiado alto, lo que indica que la distribución de los errores no es normal."
   ]
  },
  {
   "attachments": {},
   "cell_type": "markdown",
   "metadata": {},
   "source": [
    "## Regresión lineal con sklearn"
   ]
  },
  {
   "cell_type": "code",
   "execution_count": 10,
   "metadata": {},
   "outputs": [
    {
     "name": "stdout",
     "output_type": "stream",
     "text": [
      "Intercept 1.0545548794962698\n",
      "Citations 0.014321796073577258\n",
      "Citations per Publication -0.01947261523997112\n",
      "Field-Weighted Citation Impact -0.024964535806106396\n",
      "Output in Top 10% Citation Percentiles (field-weighted) -0.015356948586858793\n",
      "SNIP 0.011420263433314978\n",
      "Career years 0.5437220683544697\n"
     ]
    }
   ],
   "source": [
    "X_train,X_test,Y_train,Y_test = train_test_split(X,Y,test_size=.30,random_state=0)\n",
    "\n",
    "model = LinearRegression()\n",
    "model.fit(X_train,Y_train)\n",
    "print('Intercept',model.intercept_[0])\n",
    "for i in range(len(X_train.columns)):\n",
    "    print(X_train.columns[i],model.coef_[0][i])"
   ]
  },
  {
   "cell_type": "code",
   "execution_count": 11,
   "metadata": {},
   "outputs": [
    {
     "name": "stdout",
     "output_type": "stream",
     "text": [
      "Puntaje entrenamiento: 0.767013714027356\n",
      "\n",
      "Puntaje Test: 0.5793964871081672\n",
      "\n",
      "MAE 0.5056983752005062\n",
      "MSE 1.1508243056021663\n"
     ]
    }
   ],
   "source": [
    "predictions = model.predict(X_test)\n",
    "\n",
    "print('Puntaje entrenamiento: {}\\n'.format(model.score(X_train,Y_train)))\n",
    "print('Puntaje Test: {}\\n'.format(model.score(X_test,Y_test)))\n",
    "print('MAE',mean_absolute_error(Y_test, predictions)) #mean absolute error\n",
    "print('MSE',mean_squared_error(Y_test, predictions))  #mean squared error\n"
   ]
  },
  {
   "attachments": {},
   "cell_type": "markdown",
   "metadata": {},
   "source": [
    "El modelo se ajusta moderadamente para el conjunto de entrenamiento, pero no para el de prueba, puede que haya overfitting"
   ]
  },
  {
   "attachments": {},
   "cell_type": "markdown",
   "metadata": {},
   "source": [
    "## Regresión polinomial OLS"
   ]
  },
  {
   "cell_type": "code",
   "execution_count": 13,
   "metadata": {},
   "outputs": [
    {
     "name": "stdout",
     "output_type": "stream",
     "text": [
      "                            OLS Regression Results                            \n",
      "==============================================================================\n",
      "Dep. Variable:                h-index   R-squared:                       0.910\n",
      "Model:                            OLS   Adj. R-squared:                  0.910\n",
      "Method:                 Least Squares   F-statistic:                 1.648e+04\n",
      "Date:                Wed, 15 Mar 2023   Prob (F-statistic):               0.00\n",
      "Time:                        01:49:49   Log-Likelihood:                -93576.\n",
      "No. Observations:              136109   AIC:                         1.873e+05\n",
      "Df Residuals:                  136025   BIC:                         1.881e+05\n",
      "Df Model:                          83                                         \n",
      "Covariance Type:            nonrobust                                         \n",
      "==============================================================================\n",
      "                 coef    std err          t      P>|t|      [0.025      0.975]\n",
      "------------------------------------------------------------------------------\n",
      "const          0.1445      0.062      2.345      0.019       0.024       0.265\n",
      "x1             0.0411      0.001     44.167      0.000       0.039       0.043\n",
      "x2            -0.0220      0.002    -14.174      0.000      -0.025      -0.019\n",
      "x3             0.0135      0.014      0.997      0.319      -0.013       0.040\n",
      "x4            -0.0141      0.002     -5.799      0.000      -0.019      -0.009\n",
      "x5             0.1443      0.020      7.286      0.000       0.105       0.183\n",
      "x6             1.7560      0.059     29.668      0.000       1.640       1.872\n",
      "x7         -1.796e-05   2.35e-07    -76.449      0.000   -1.84e-05   -1.75e-05\n",
      "x8            -0.0002   6.64e-06    -30.403      0.000      -0.000      -0.000\n",
      "x9            -0.0009      0.000     -7.522      0.000      -0.001      -0.001\n",
      "x10            0.0006   3.12e-05     19.839      0.000       0.001       0.001\n",
      "x11           -0.0008      0.000     -2.104      0.035      -0.002    -5.5e-05\n",
      "x12           -0.0003      0.000     -1.027      0.304      -0.001       0.000\n",
      "x13            0.0002   8.31e-06     21.870      0.000       0.000       0.000\n",
      "x14            0.0014      0.000      7.797      0.000       0.001       0.002\n",
      "x15           -0.0018   6.52e-05    -28.222      0.000      -0.002      -0.002\n",
      "x16           -0.0020      0.000     -4.196      0.000      -0.003      -0.001\n",
      "x17           -0.0185      0.001    -16.360      0.000      -0.021      -0.016\n",
      "x18            0.0010      0.000      6.671      0.000       0.001       0.001\n",
      "x19           -0.0079      0.001     -9.209      0.000      -0.010      -0.006\n",
      "x20           -0.0017      0.003     -0.579      0.562      -0.007       0.004\n",
      "x21           -0.0922      0.014     -6.806      0.000      -0.119      -0.066\n",
      "x22           -0.0005   5.14e-05     -9.347      0.000      -0.001      -0.000\n",
      "x23           -0.0030      0.001     -4.760      0.000      -0.004      -0.002\n",
      "x24           -0.0023      0.001     -1.807      0.071      -0.005       0.000\n",
      "x25           -0.0027      0.001     -2.377      0.017      -0.005      -0.000\n",
      "x26           -0.1017      0.017     -6.113      0.000      -0.134      -0.069\n",
      "x27           -0.3106      0.014    -22.513      0.000      -0.338      -0.284\n",
      "x28         4.519e-10   3.26e-12    138.460      0.000    4.46e-10    4.58e-10\n",
      "x29         1.759e-07   2.33e-09     75.529      0.000    1.71e-07     1.8e-07\n",
      "x30        -2.314e-06   4.77e-08    -48.541      0.000   -2.41e-06   -2.22e-06\n",
      "x31        -1.311e-07   4.97e-09    -26.359      0.000   -1.41e-07   -1.21e-07\n",
      "x32         2.831e-06   3.61e-08     78.427      0.000    2.76e-06     2.9e-06\n",
      "x33         1.913e-06   3.49e-08     54.858      0.000    1.84e-06    1.98e-06\n",
      "x34        -5.926e-07   1.11e-08    -53.285      0.000   -6.14e-07   -5.71e-07\n",
      "x35         1.836e-05   3.79e-07     48.440      0.000    1.76e-05    1.91e-05\n",
      "x36         3.033e-07   1.23e-07      2.474      0.013     6.3e-08    5.44e-07\n",
      "x37        -4.688e-06   1.71e-06     -2.746      0.006   -8.03e-06   -1.34e-06\n",
      "x38        -2.164e-05   1.26e-06    -17.128      0.000   -2.41e-05   -1.92e-05\n",
      "x39        -2.028e-05    2.1e-06     -9.657      0.000   -2.44e-05   -1.62e-05\n",
      "x40        -7.194e-05    3.5e-06    -20.550      0.000   -7.88e-05   -6.51e-05\n",
      "x41           -0.0002   2.88e-05     -6.164      0.000      -0.000      -0.000\n",
      "x42            0.0008   2.48e-05     33.337      0.000       0.001       0.001\n",
      "x43        -4.204e-06   3.39e-07    -12.405      0.000   -4.87e-06   -3.54e-06\n",
      "x44         1.022e-05   6.44e-06      1.587      0.113    -2.4e-06    2.28e-05\n",
      "x45        -4.449e-05   4.17e-06    -10.682      0.000   -5.27e-05   -3.63e-05\n",
      "x46            0.0002   2.92e-05      8.240      0.000       0.000       0.000\n",
      "x47           -0.0009   5.33e-05    -16.738      0.000      -0.001      -0.001\n",
      "x48           -0.0004   3.32e-05    -12.884      0.000      -0.000      -0.000\n",
      "x49         4.018e-07   1.05e-08     38.165      0.000    3.81e-07    4.22e-07\n",
      "x50        -1.522e-05   4.07e-07    -37.347      0.000    -1.6e-05   -1.44e-05\n",
      "x51         1.028e-05   3.69e-07     27.887      0.000    9.56e-06     1.1e-05\n",
      "x52         6.883e-07   1.78e-06      0.387      0.699    -2.8e-06    4.18e-06\n",
      "x53         4.353e-05   2.95e-06     14.746      0.000    3.77e-05    4.93e-05\n",
      "x54         1.167e-05   3.31e-06      3.525      0.000    5.18e-06    1.82e-05\n",
      "x55        -2.756e-05   1.04e-05     -2.655      0.008   -4.79e-05   -7.22e-06\n",
      "x56            0.0001   2.91e-05      4.949      0.000     8.7e-05       0.000\n",
      "x57           -0.0011   8.86e-05    -12.838      0.000      -0.001      -0.001\n",
      "x58         4.225e-05   1.02e-06     41.245      0.000    4.02e-05    4.43e-05\n",
      "x59           -0.0002   1.27e-05    -12.609      0.000      -0.000      -0.000\n",
      "x60           -0.0002   1.69e-05    -13.805      0.000      -0.000      -0.000\n",
      "x61           -0.0002   3.27e-05     -5.940      0.000      -0.000      -0.000\n",
      "x62            0.0042      0.000     25.265      0.000       0.004       0.005\n",
      "x63            0.0022      0.000     12.953      0.000       0.002       0.003\n",
      "x64        -6.399e-06   5.52e-07    -11.583      0.000   -7.48e-06   -5.32e-06\n",
      "x65         3.275e-05   3.81e-05      0.860      0.390   -4.18e-05       0.000\n",
      "x66            0.0006   5.18e-05     11.481      0.000       0.000       0.001\n",
      "x67            0.0003      0.000      2.415      0.016    6.49e-05       0.001\n",
      "x68            0.0009   1.56e-05     56.948      0.000       0.001       0.001\n",
      "x69            0.0019      0.000     12.531      0.000       0.002       0.002\n",
      "x70           -0.0064      0.000    -33.186      0.000      -0.007      -0.006\n",
      "x71           -0.0004   6.15e-05     -5.763      0.000      -0.000      -0.000\n",
      "x72           -0.0098      0.002     -5.433      0.000      -0.013      -0.006\n",
      "x73            0.0172      0.002      8.358      0.000       0.013       0.021\n",
      "x74         7.899e-06   3.68e-07     21.447      0.000    7.18e-06    8.62e-06\n",
      "x75         4.456e-05   6.75e-06      6.598      0.000    3.13e-05    5.78e-05\n",
      "x76           -0.0002    9.1e-06    -16.833      0.000      -0.000      -0.000\n",
      "x77        -9.898e-05   1.75e-05     -5.654      0.000      -0.000   -6.47e-05\n",
      "x78            0.0007      0.000      3.160      0.002       0.000       0.001\n",
      "x79            0.0007      0.000      5.475      0.000       0.000       0.001\n",
      "x80            0.0002   2.46e-05      6.344      0.000       0.000       0.000\n",
      "x81           -0.0023      0.000     -7.187      0.000      -0.003      -0.002\n",
      "x82            0.0187      0.002      7.522      0.000       0.014       0.024\n",
      "x83            0.0281      0.001     22.079      0.000       0.026       0.031\n",
      "==============================================================================\n",
      "Omnibus:                    41415.084   Durbin-Watson:                   1.988\n",
      "Prob(Omnibus):                  0.000   Jarque-Bera (JB):          7849480.406\n",
      "Skew:                           0.082   Prob(JB):                         0.00\n",
      "Kurtosis:                      40.203   Cond. No.                     2.83e+11\n",
      "==============================================================================\n",
      "\n",
      "Notes:\n",
      "[1] Standard Errors assume that the covariance matrix of the errors is correctly specified.\n",
      "[2] The condition number is large, 2.83e+11. This might indicate that there are\n",
      "strong multicollinearity or other numerical problems.\n"
     ]
    }
   ],
   "source": [
    "polynomial_features= PolynomialFeatures(degree=3)\n",
    "Xp = polynomial_features.fit_transform(X)\n",
    "Xpc = sm.add_constant(Xp) #para obtener la ordenada en el origen\n",
    "model = sm.OLS(Y, Xpc) #Ordinary Least Squares\n",
    "results = model.fit()\n",
    "print(results.summary())"
   ]
  },
  {
   "attachments": {},
   "cell_type": "markdown",
   "metadata": {},
   "source": [
    "## Regresión polinomial con sklearn"
   ]
  },
  {
   "cell_type": "code",
   "execution_count": 14,
   "metadata": {},
   "outputs": [
    {
     "name": "stdout",
     "output_type": "stream",
     "text": [
      "Puntaje entrenamiento: 0.9111567377797642\n",
      "\n",
      "Puntaje Test: -63.93894397669351\n",
      "\n",
      "MAE 0.39835979055790843\n",
      "MSE 177.68114820223943\n"
     ]
    }
   ],
   "source": [
    "Xp_train,Xp_test,Yp_train,Yp_test = train_test_split(Xp,Y,test_size=.30,random_state=0)\n",
    "\n",
    "model = LinearRegression()  \n",
    "model.fit(Xp_train,Yp_train)  \n",
    "predictions = model.predict(Xp_test)\n",
    "print('Puntaje entrenamiento: {}\\n'.format(model.score(Xp_train,Yp_train)))\n",
    "print('Puntaje Test: {}\\n'.format(model.score(Xp_test,Yp_test)))\n",
    "print('MAE',mean_absolute_error(Yp_test, predictions)) #mean absolute error\n",
    "print('MSE',mean_squared_error(Yp_test, predictions))  #mean squared error"
   ]
  },
  {
   "attachments": {},
   "cell_type": "markdown",
   "metadata": {},
   "source": [
    "## Regresión con kNN"
   ]
  },
  {
   "cell_type": "code",
   "execution_count": 15,
   "metadata": {},
   "outputs": [
    {
     "name": "stdout",
     "output_type": "stream",
     "text": [
      "Puntaje entrenamiento: 0.9616907063377383\n",
      "\n",
      "Puntaje Test: 0.9280686105345095\n",
      "\n",
      "MAE 0.16763891950138368\n",
      "MSE 0.19681336174172853\n"
     ]
    }
   ],
   "source": [
    "scaler = StandardScaler()\n",
    "transformed_X=scaler.fit_transform(X)\n",
    "\n",
    "X_train,X_test,y_train,y_test = train_test_split(transformed_X,Y,test_size=.30,random_state=0)\n",
    "\n",
    "model = KNeighborsRegressor(5,metric='euclidean')  \n",
    "model.fit(X_train,y_train)  \n",
    "predictions = model.predict(X_test)\n",
    "\n",
    "print('Puntaje entrenamiento: {}\\n'.format(model.score(X_train,y_train)))\n",
    "print('Puntaje Test: {}\\n'.format(model.score(X_test,y_test)))\n",
    "print('MAE',mean_absolute_error(y_test, predictions)) #mean absolute error\n",
    "print('MSE',mean_squared_error(y_test, predictions))  #mean squared error"
   ]
  },
  {
   "attachments": {},
   "cell_type": "markdown",
   "metadata": {},
   "source": [
    "## Regresión con Árbol de decisión"
   ]
  },
  {
   "cell_type": "code",
   "execution_count": 16,
   "metadata": {},
   "outputs": [
    {
     "name": "stdout",
     "output_type": "stream",
     "text": [
      "Puntaje entrenamiento: 0.7805979322859058\n",
      "\n",
      "Puntaje Test: 0.7419143205255472\n",
      "\n",
      "MAE 0.35990657171497403\n",
      "MSE 0.7061549981477049\n"
     ]
    }
   ],
   "source": [
    "X_train,X_test,y_train,y_test = train_test_split(X,Y,test_size=.30,random_state=0)\n",
    "\n",
    "model = DecisionTreeRegressor(max_depth=3)  \n",
    "model.fit(X_train,y_train)  \n",
    "predictions = model.predict(X_test)\n",
    "\n",
    "print('Puntaje entrenamiento: {}\\n'.format(model.score(X_train,y_train)))\n",
    "print('Puntaje Test: {}\\n'.format(model.score(X_test,y_test)))\n",
    "print('MAE',mean_absolute_error(y_test, predictions)) #mean absolute error\n",
    "print('MSE',mean_squared_error(y_test, predictions))  #mean squared error"
   ]
  },
  {
   "attachments": {},
   "cell_type": "markdown",
   "metadata": {},
   "source": [
    "## Regresión con Random Forest"
   ]
  },
  {
   "cell_type": "code",
   "execution_count": 17,
   "metadata": {},
   "outputs": [
    {
     "name": "stderr",
     "output_type": "stream",
     "text": [
      "/tmp/ipykernel_27899/3934460837.py:2: DataConversionWarning: A column-vector y was passed when a 1d array was expected. Please change the shape of y to (n_samples,), for example using ravel().\n",
      "  model.fit(X_train,y_train)\n"
     ]
    },
    {
     "name": "stdout",
     "output_type": "stream",
     "text": [
      "MAE: 0.17930466657135913\n",
      "train score 0.9406165891091047\n",
      "test score 0.9235355359136694\n"
     ]
    }
   ],
   "source": [
    "model = RandomForestRegressor(max_depth=10,max_leaf_nodes=50,random_state=0)\n",
    "model.fit(X_train,y_train)\n",
    "\n",
    "predictions = model.predict(X_test)\n",
    "print('MAE:',mean_absolute_error(y_test, predictions))\n",
    "print('train score',model.score(X_train,y_train))\n",
    "print('test score',model.score(X_test,y_test))"
   ]
  },
  {
   "attachments": {},
   "cell_type": "markdown",
   "metadata": {},
   "source": [
    "# Target h-index ponderado"
   ]
  },
  {
   "attachments": {},
   "cell_type": "markdown",
   "metadata": {},
   "source": [
    "Se elimina el h-index porque este calcula el h-index ponderado"
   ]
  },
  {
   "cell_type": "code",
   "execution_count": 18,
   "metadata": {},
   "outputs": [],
   "source": [
    "df2 = df_.drop(columns=['h-index'])"
   ]
  },
  {
   "cell_type": "markdown",
   "metadata": {},
   "source": [
    "## Partición de base de datos"
   ]
  },
  {
   "cell_type": "code",
   "execution_count": 19,
   "metadata": {},
   "outputs": [],
   "source": [
    "target = ['h-index Ponderado']\n",
    "X = df2.drop(columns=target)\n",
    "Y = df2[target]"
   ]
  },
  {
   "cell_type": "markdown",
   "metadata": {},
   "source": [
    "## Regresión lineal Ordinary Least Squares (OLS)"
   ]
  },
  {
   "cell_type": "code",
   "execution_count": 20,
   "metadata": {},
   "outputs": [
    {
     "name": "stdout",
     "output_type": "stream",
     "text": [
      "                            OLS Regression Results                            \n",
      "==============================================================================\n",
      "Dep. Variable:      h-index Ponderado   R-squared:                       0.300\n",
      "Model:                            OLS   Adj. R-squared:                  0.300\n",
      "Method:                 Least Squares   F-statistic:                     9720.\n",
      "Date:                Wed, 15 Mar 2023   Prob (F-statistic):               0.00\n",
      "Time:                        01:50:04   Log-Likelihood:                -78546.\n",
      "No. Observations:              136109   AIC:                         1.571e+05\n",
      "Df Residuals:                  136102   BIC:                         1.572e+05\n",
      "Df Model:                           6                                         \n",
      "Covariance Type:            nonrobust                                         \n",
      "===========================================================================================================================\n",
      "                                                              coef    std err          t      P>|t|      [0.025      0.975]\n",
      "---------------------------------------------------------------------------------------------------------------------------\n",
      "const                                                       1.4356      0.005    302.120      0.000       1.426       1.445\n",
      "Citations                                                   0.0024   1.61e-05    151.055      0.000       0.002       0.002\n",
      "Citations per Publication                                  -0.0034   7.66e-05    -44.630      0.000      -0.004      -0.003\n",
      "Field-Weighted Citation Impact                             -0.0131      0.001    -15.487      0.000      -0.015      -0.011\n",
      "Output in Top 10% Citation Percentiles (field-weighted)    -0.0112   7.57e-05   -148.033      0.000      -0.011      -0.011\n",
      "SNIP                                                        0.0112      0.001      8.077      0.000       0.009       0.014\n",
      "Career years                                               -0.0645      0.001    -67.327      0.000      -0.066      -0.063\n",
      "==============================================================================\n",
      "Omnibus:                    38595.010   Durbin-Watson:                   1.886\n",
      "Prob(Omnibus):                  0.000   Jarque-Bera (JB):          3696201.134\n",
      "Skew:                           0.325   Prob(JB):                         0.00\n",
      "Kurtosis:                      28.521   Cond. No.                         363.\n",
      "==============================================================================\n",
      "\n",
      "Notes:\n",
      "[1] Standard Errors assume that the covariance matrix of the errors is correctly specified.\n"
     ]
    }
   ],
   "source": [
    "Xc = sm.add_constant(X) #para obtener la ordenada en el origen\n",
    "model = sm.OLS(Y, Xc) #Ordinary Least Squares\n",
    "results = model.fit()\n",
    "print(results.summary())"
   ]
  },
  {
   "attachments": {},
   "cell_type": "markdown",
   "metadata": {},
   "source": [
    "El R² ajustado es muy bajo, por lo que el modelo no predice bien los valores"
   ]
  },
  {
   "cell_type": "markdown",
   "metadata": {},
   "source": [
    "## Regresión lineal con sklearn"
   ]
  },
  {
   "cell_type": "code",
   "execution_count": 21,
   "metadata": {},
   "outputs": [
    {
     "name": "stdout",
     "output_type": "stream",
     "text": [
      "Intercept 1.4607710327229917\n",
      "Citations 0.0032701601918303062\n",
      "Citations per Publication -0.004536503549201019\n",
      "Field-Weighted Citation Impact -0.016483102088435588\n",
      "Output in Top 10% Citation Percentiles (field-weighted) -0.011228628474708723\n",
      "SNIP 0.010337176489985805\n",
      "Career years -0.08101034822181241\n"
     ]
    }
   ],
   "source": [
    "X_train,X_test,Y_train,Y_test = train_test_split(X,Y,test_size=.30,random_state=0)\n",
    "\n",
    "model = LinearRegression()\n",
    "model.fit(X_train,Y_train)\n",
    "print('Intercept',model.intercept_[0])\n",
    "for i in range(len(X_train.columns)):\n",
    "    print(X_train.columns[i],model.coef_[0][i])"
   ]
  },
  {
   "cell_type": "code",
   "execution_count": 22,
   "metadata": {},
   "outputs": [
    {
     "name": "stdout",
     "output_type": "stream",
     "text": [
      "Puntaje entrenamiento: 0.3177257256037209\n",
      "\n",
      "Puntaje Test: 0.21330150761841138\n",
      "\n",
      "MAE 0.30577894843323494\n",
      "MSE 0.2140538532206862\n"
     ]
    }
   ],
   "source": [
    "predictions = model.predict(X_test)\n",
    "\n",
    "print('Puntaje entrenamiento: {}\\n'.format(model.score(X_train,Y_train)))\n",
    "print('Puntaje Test: {}\\n'.format(model.score(X_test,Y_test)))\n",
    "print('MAE',mean_absolute_error(Y_test, predictions)) #mean absolute error\n",
    "print('MSE',mean_squared_error(Y_test, predictions))  #mean squared error\n"
   ]
  },
  {
   "attachments": {},
   "cell_type": "markdown",
   "metadata": {},
   "source": [
    "El R² ajustado es muy bajo, por lo que el modelo no predice bien los valores"
   ]
  },
  {
   "cell_type": "markdown",
   "metadata": {},
   "source": [
    "## Regresión polinomial OLS"
   ]
  },
  {
   "cell_type": "code",
   "execution_count": 23,
   "metadata": {},
   "outputs": [
    {
     "name": "stdout",
     "output_type": "stream",
     "text": [
      "                            OLS Regression Results                            \n",
      "==============================================================================\n",
      "Dep. Variable:      h-index Ponderado   R-squared:                       0.719\n",
      "Model:                            OLS   Adj. R-squared:                  0.719\n",
      "Method:                 Least Squares   F-statistic:                     4188.\n",
      "Date:                Wed, 15 Mar 2023   Prob (F-statistic):               0.00\n",
      "Time:                        01:50:07   Log-Likelihood:                -16486.\n",
      "No. Observations:              136109   AIC:                         3.314e+04\n",
      "Df Residuals:                  136025   BIC:                         3.397e+04\n",
      "Df Model:                          83                                         \n",
      "Covariance Type:            nonrobust                                         \n",
      "==============================================================================\n",
      "                 coef    std err          t      P>|t|      [0.025      0.975]\n",
      "------------------------------------------------------------------------------\n",
      "const          1.5932      0.035     45.556      0.000       1.525       1.662\n",
      "x1             0.0443      0.001     83.829      0.000       0.043       0.045\n",
      "x2            -0.0401      0.001    -45.491      0.000      -0.042      -0.038\n",
      "x3             0.0472      0.008      6.140      0.000       0.032       0.062\n",
      "x4            -0.0175      0.001    -12.698      0.000      -0.020      -0.015\n",
      "x5             0.0463      0.011      4.121      0.000       0.024       0.068\n",
      "x6            -0.2420      0.034     -7.205      0.000      -0.308      -0.176\n",
      "x7         -5.865e-06   1.33e-07    -43.980      0.000   -6.13e-06    -5.6e-06\n",
      "x8            -0.0002   3.77e-06    -42.486      0.000      -0.000      -0.000\n",
      "x9            -0.0007   6.71e-05    -11.067      0.000      -0.001      -0.001\n",
      "x10            0.0003   1.77e-05     17.634      0.000       0.000       0.000\n",
      "x11           -0.0012      0.000     -5.436      0.000      -0.002      -0.001\n",
      "x12           -0.0138      0.000    -90.551      0.000      -0.014      -0.013\n",
      "x13            0.0002   4.72e-06     35.387      0.000       0.000       0.000\n",
      "x14            0.0009      0.000      8.721      0.000       0.001       0.001\n",
      "x15           -0.0013    3.7e-05    -34.234      0.000      -0.001      -0.001\n",
      "x16            0.0003      0.000      1.052      0.293      -0.000       0.001\n",
      "x17            0.0113      0.001     17.562      0.000       0.010       0.013\n",
      "x18            0.0002   8.61e-05      1.803      0.071   -1.35e-05       0.000\n",
      "x19           -0.0002      0.000     -0.329      0.742      -0.001       0.001\n",
      "x20            0.0029      0.002      1.774      0.076      -0.000       0.006\n",
      "x21           -0.1134      0.008    -14.752      0.000      -0.128      -0.098\n",
      "x22           -0.0003   2.91e-05     -9.944      0.000      -0.000      -0.000\n",
      "x23           -0.0012      0.000     -3.360      0.001      -0.002      -0.001\n",
      "x24           -0.0068      0.001     -9.477      0.000      -0.008      -0.005\n",
      "x25           -0.0033      0.001     -5.041      0.000      -0.005      -0.002\n",
      "x26           -0.0196      0.009     -2.075      0.038      -0.038      -0.001\n",
      "x27            0.1274      0.008     16.275      0.000       0.112       0.143\n",
      "x28         9.943e-11   1.85e-12     53.675      0.000    9.58e-11    1.03e-10\n",
      "x29         5.833e-08   1.32e-09     44.135      0.000    5.57e-08    6.09e-08\n",
      "x30        -8.373e-07   2.71e-08    -30.949      0.000    -8.9e-07   -7.84e-07\n",
      "x31        -1.514e-08   2.82e-09     -5.362      0.000   -2.07e-08   -9.61e-09\n",
      "x32         7.763e-07   2.05e-08     37.897      0.000    7.36e-07    8.16e-07\n",
      "x33          6.89e-07   1.98e-08     34.810      0.000     6.5e-07    7.28e-07\n",
      "x34         -1.85e-07   6.31e-09    -29.311      0.000   -1.97e-07   -1.73e-07\n",
      "x35         8.134e-06   2.15e-07     37.802      0.000    7.71e-06    8.56e-06\n",
      "x36        -3.231e-08   6.96e-08     -0.464      0.642   -1.69e-07    1.04e-07\n",
      "x37         4.847e-06   9.69e-07      5.003      0.000    2.95e-06    6.75e-06\n",
      "x38         9.616e-06   7.17e-07     13.411      0.000    8.21e-06     1.1e-05\n",
      "x39        -6.283e-06   1.19e-06     -5.270      0.000   -8.62e-06   -3.95e-06\n",
      "x40        -2.875e-05   1.99e-06    -14.469      0.000   -3.26e-05   -2.49e-05\n",
      "x41           -0.0001   1.63e-05     -6.298      0.000      -0.000   -7.09e-05\n",
      "x42            0.0005   1.41e-05     34.818      0.000       0.000       0.001\n",
      "x43        -5.122e-06   1.92e-07    -26.631      0.000    -5.5e-06   -4.75e-06\n",
      "x44        -7.129e-06   3.65e-06     -1.951      0.051   -1.43e-05    3.37e-08\n",
      "x45         1.025e-05   2.36e-06      4.336      0.000    5.62e-06    1.49e-05\n",
      "x46         9.694e-05   1.66e-05      5.843      0.000    6.44e-05       0.000\n",
      "x47         6.066e-06   3.03e-05      0.200      0.841   -5.33e-05    6.54e-05\n",
      "x48            0.0011   1.88e-05     56.699      0.000       0.001       0.001\n",
      "x49         1.165e-07   5.98e-09     19.502      0.000    1.05e-07    1.28e-07\n",
      "x50        -6.736e-06   2.31e-07    -29.129      0.000   -7.19e-06   -6.28e-06\n",
      "x51         7.121e-06   2.09e-07     34.039      0.000    6.71e-06    7.53e-06\n",
      "x52        -5.973e-06   1.01e-06     -5.913      0.000   -7.95e-06   -3.99e-06\n",
      "x53        -2.161e-05   1.68e-06    -12.897      0.000   -2.49e-05   -1.83e-05\n",
      "x54         3.075e-06   1.88e-06      1.637      0.102   -6.07e-07    6.76e-06\n",
      "x55        -7.442e-05   5.89e-06    -12.631      0.000    -8.6e-05   -6.29e-05\n",
      "x56         8.382e-05   1.65e-05      5.074      0.000    5.14e-05       0.000\n",
      "x57           -0.0006   5.03e-05    -11.131      0.000      -0.001      -0.000\n",
      "x58         3.429e-05   5.81e-07     58.983      0.000    3.32e-05    3.54e-05\n",
      "x59        -7.778e-05   7.19e-06    -10.812      0.000   -9.19e-05   -6.37e-05\n",
      "x60           -0.0002   9.59e-06    -18.117      0.000      -0.000      -0.000\n",
      "x61         -6.61e-05   1.85e-05     -3.564      0.000      -0.000   -2.97e-05\n",
      "x62            0.0010    9.5e-05     10.587      0.000       0.001       0.001\n",
      "x63           -0.0003   9.74e-05     -2.927      0.003      -0.000   -9.42e-05\n",
      "x64        -4.306e-06   3.14e-07    -13.731      0.000   -4.92e-06   -3.69e-06\n",
      "x65           -0.0003   2.16e-05    -11.926      0.000      -0.000      -0.000\n",
      "x66            0.0003   2.94e-05     10.258      0.000       0.000       0.000\n",
      "x67            0.0011   8.11e-05     12.991      0.000       0.001       0.001\n",
      "x68            0.0008   8.86e-06     87.999      0.000       0.001       0.001\n",
      "x69            0.0014   8.67e-05     15.677      0.000       0.001       0.002\n",
      "x70           -0.0059      0.000    -54.466      0.000      -0.006      -0.006\n",
      "x71           -0.0002   3.49e-05     -6.378      0.000      -0.000      -0.000\n",
      "x72           -0.0079      0.001     -7.643      0.000      -0.010      -0.006\n",
      "x73            0.0176      0.001     15.034      0.000       0.015       0.020\n",
      "x74         4.581e-06   2.09e-07     21.912      0.000    4.17e-06    4.99e-06\n",
      "x75         3.647e-05   3.83e-06      9.515      0.000     2.9e-05     4.4e-05\n",
      "x76         4.729e-05   5.16e-06      9.156      0.000    3.72e-05    5.74e-05\n",
      "x77        -7.381e-05   9.94e-06     -7.428      0.000   -9.33e-05   -5.43e-05\n",
      "x78           -0.0004      0.000     -3.374      0.001      -0.001      -0.000\n",
      "x79         7.258e-05   7.11e-05      1.021      0.307   -6.68e-05       0.000\n",
      "x80            0.0001    1.4e-05      7.739      0.000    8.07e-05       0.000\n",
      "x81           -0.0003      0.000     -1.696      0.090      -0.001    4.85e-05\n",
      "x82            0.0074      0.001      5.228      0.000       0.005       0.010\n",
      "x83           -0.0102      0.001    -14.074      0.000      -0.012      -0.009\n",
      "==============================================================================\n",
      "Omnibus:                    39064.970   Durbin-Watson:                   1.960\n",
      "Prob(Omnibus):                  0.000   Jarque-Bera (JB):          5580034.196\n",
      "Skew:                           0.027   Prob(JB):                         0.00\n",
      "Kurtosis:                      34.368   Cond. No.                     2.83e+11\n",
      "==============================================================================\n",
      "\n",
      "Notes:\n",
      "[1] Standard Errors assume that the covariance matrix of the errors is correctly specified.\n",
      "[2] The condition number is large, 2.83e+11. This might indicate that there are\n",
      "strong multicollinearity or other numerical problems.\n"
     ]
    }
   ],
   "source": [
    "polynomial_features= PolynomialFeatures(degree=3)\n",
    "Xp = polynomial_features.fit_transform(X)\n",
    "Xpc = sm.add_constant(Xp) #para obtener la ordenada en el origen\n",
    "model = sm.OLS(Y, Xpc) #Ordinary Least Squares\n",
    "results = model.fit()\n",
    "print(results.summary())"
   ]
  },
  {
   "cell_type": "markdown",
   "metadata": {},
   "source": [
    "## Regresión polinomial con sklearn"
   ]
  },
  {
   "cell_type": "code",
   "execution_count": 24,
   "metadata": {},
   "outputs": [
    {
     "name": "stdout",
     "output_type": "stream",
     "text": [
      "Puntaje entrenamiento: 0.7191030294637757\n",
      "\n",
      "Puntaje Test: -37.23867964876551\n",
      "\n",
      "MAE 0.20501398263863552\n",
      "MSE 10.404413889380493\n"
     ]
    }
   ],
   "source": [
    "Xp_train,Xp_test,Yp_train,Yp_test = train_test_split(Xp,Y,test_size=.30,random_state=0)\n",
    "\n",
    "model = LinearRegression()  \n",
    "model.fit(Xp_train,Yp_train)  \n",
    "predictions = model.predict(Xp_test)\n",
    "print('Puntaje entrenamiento: {}\\n'.format(model.score(Xp_train,Yp_train)))\n",
    "print('Puntaje Test: {}\\n'.format(model.score(Xp_test,Yp_test)))\n",
    "print('MAE',mean_absolute_error(Yp_test, predictions)) #mean absolute error\n",
    "print('MSE',mean_squared_error(Yp_test, predictions))  #mean squared error"
   ]
  },
  {
   "cell_type": "markdown",
   "metadata": {},
   "source": [
    "## Regresión con kNN"
   ]
  },
  {
   "cell_type": "code",
   "execution_count": 25,
   "metadata": {},
   "outputs": [
    {
     "name": "stdout",
     "output_type": "stream",
     "text": [
      "Puntaje entrenamiento: 0.9242123886466234\n",
      "\n",
      "Puntaje Test: 0.8740616296276025\n",
      "\n",
      "MAE 0.06837582347611\n",
      "MSE 0.034266740952987366\n"
     ]
    }
   ],
   "source": [
    "scaler = StandardScaler()\n",
    "transformed_X=scaler.fit_transform(X)\n",
    "\n",
    "X_train,X_test,y_train,y_test = train_test_split(transformed_X,Y,test_size=.30,random_state=0)\n",
    "\n",
    "model = KNeighborsRegressor(5,metric='euclidean')  \n",
    "model.fit(X_train,y_train)  \n",
    "predictions = model.predict(X_test)\n",
    "\n",
    "print('Puntaje entrenamiento: {}\\n'.format(model.score(X_train,y_train)))\n",
    "print('Puntaje Test: {}\\n'.format(model.score(X_test,y_test)))\n",
    "print('MAE',mean_absolute_error(y_test, predictions)) #mean absolute error\n",
    "print('MSE',mean_squared_error(y_test, predictions))  #mean squared error"
   ]
  },
  {
   "cell_type": "markdown",
   "metadata": {},
   "source": [
    "## Regresión con Árbol de decisión"
   ]
  },
  {
   "cell_type": "code",
   "execution_count": 26,
   "metadata": {},
   "outputs": [
    {
     "name": "stdout",
     "output_type": "stream",
     "text": [
      "Puntaje entrenamiento: 0.5873919330972488\n",
      "\n",
      "Puntaje Test: 0.5835380422169889\n",
      "\n",
      "MAE 0.1748239050454801\n",
      "MSE 0.11331569546220042\n"
     ]
    }
   ],
   "source": [
    "X_train,X_test,y_train,y_test = train_test_split(X,Y,test_size=.30,random_state=0)\n",
    "\n",
    "model = DecisionTreeRegressor(max_depth=3)  \n",
    "model.fit(X_train,y_train)  \n",
    "predictions = model.predict(X_test)\n",
    "\n",
    "print('Puntaje entrenamiento: {}\\n'.format(model.score(X_train,y_train)))\n",
    "print('Puntaje Test: {}\\n'.format(model.score(X_test,y_test)))\n",
    "print('MAE',mean_absolute_error(y_test, predictions)) #mean absolute error\n",
    "print('MSE',mean_squared_error(y_test, predictions))  #mean squared error"
   ]
  },
  {
   "cell_type": "markdown",
   "metadata": {},
   "source": [
    "## Regresión con Random Forest"
   ]
  },
  {
   "cell_type": "code",
   "execution_count": 27,
   "metadata": {},
   "outputs": [
    {
     "name": "stderr",
     "output_type": "stream",
     "text": [
      "/tmp/ipykernel_27899/3934460837.py:2: DataConversionWarning: A column-vector y was passed when a 1d array was expected. Please change the shape of y to (n_samples,), for example using ravel().\n",
      "  model.fit(X_train,y_train)\n"
     ]
    },
    {
     "name": "stdout",
     "output_type": "stream",
     "text": [
      "MAE: 0.07117554228603873\n",
      "train score 0.9003293891199079\n",
      "test score 0.890971034297355\n"
     ]
    }
   ],
   "source": [
    "model = RandomForestRegressor(max_depth=10,max_leaf_nodes=50,random_state=0)\n",
    "model.fit(X_train,y_train)\n",
    "\n",
    "predictions = model.predict(X_test)\n",
    "print('MAE:',mean_absolute_error(y_test, predictions))\n",
    "print('train score',model.score(X_train,y_train))\n",
    "print('test score',model.score(X_test,y_test))"
   ]
  }
 ],
 "metadata": {
  "kernelspec": {
   "display_name": "Python 3",
   "language": "python",
   "name": "python3"
  },
  "language_info": {
   "codemirror_mode": {
    "name": "ipython",
    "version": 3
   },
   "file_extension": ".py",
   "mimetype": "text/x-python",
   "name": "python",
   "nbconvert_exporter": "python",
   "pygments_lexer": "ipython3",
   "version": "3.10.6"
  },
  "orig_nbformat": 4
 },
 "nbformat": 4,
 "nbformat_minor": 2
}
