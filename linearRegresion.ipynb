{
 "cells": [
  {
   "attachments": {},
   "cell_type": "markdown",
   "metadata": {},
   "source": [
    "# Librerías y configuración"
   ]
  },
  {
   "cell_type": "code",
   "execution_count": 40,
   "metadata": {},
   "outputs": [],
   "source": [
    "import numpy as np\n",
    "import pandas as pd\n",
    "import plotly.express as px\n",
    "import matplotlib.pyplot as plt\n",
    "import seaborn as sns\n",
    "import statsmodels.api as sm\n"
   ]
  },
  {
   "cell_type": "code",
   "execution_count": 98,
   "metadata": {},
   "outputs": [],
   "source": [
    "from sklearn.neighbors import KNeighborsRegressor\n",
    "from sklearn.ensemble import RandomForestRegressor\n",
    "from sklearn.tree import DecisionTreeRegressor\n",
    "from sklearn.model_selection import train_test_split\n",
    "from sklearn.linear_model import LinearRegression\n",
    "from sklearn.model_selection import train_test_split\n",
    "from sklearn.preprocessing import PolynomialFeatures\n",
    "from sklearn.preprocessing import StandardScaler\n",
    "from sklearn.metrics import mean_squared_error\n",
    "from sklearn.metrics import mean_absolute_error"
   ]
  },
  {
   "attachments": {},
   "cell_type": "markdown",
   "metadata": {},
   "source": [
    "# Lectura de datos "
   ]
  },
  {
   "cell_type": "code",
   "execution_count": 31,
   "metadata": {},
   "outputs": [
    {
     "data": {
      "text/html": [
       "<div>\n",
       "<style scoped>\n",
       "    .dataframe tbody tr th:only-of-type {\n",
       "        vertical-align: middle;\n",
       "    }\n",
       "\n",
       "    .dataframe tbody tr th {\n",
       "        vertical-align: top;\n",
       "    }\n",
       "\n",
       "    .dataframe thead th {\n",
       "        text-align: right;\n",
       "    }\n",
       "</style>\n",
       "<table border=\"1\" class=\"dataframe\">\n",
       "  <thead>\n",
       "    <tr style=\"text-align: right;\">\n",
       "      <th></th>\n",
       "      <th>Unnamed: 0</th>\n",
       "      <th>Scopus author ID</th>\n",
       "      <th>Most recent publication</th>\n",
       "      <th>Citations</th>\n",
       "      <th>Citations per Publication</th>\n",
       "      <th>Field-Weighted Citation Impact</th>\n",
       "      <th>h-index</th>\n",
       "      <th>Output in Top 10% Citation Percentiles (field-weighted)</th>\n",
       "      <th>Oldest publication (since 1996)</th>\n",
       "      <th>CiteScore</th>\n",
       "      <th>SNIP</th>\n",
       "      <th>h-index Ponderado</th>\n",
       "    </tr>\n",
       "  </thead>\n",
       "  <tbody>\n",
       "    <tr>\n",
       "      <th>0</th>\n",
       "      <td>0</td>\n",
       "      <td>10038895100</td>\n",
       "      <td>2017</td>\n",
       "      <td>36</td>\n",
       "      <td>36.0</td>\n",
       "      <td>2.13</td>\n",
       "      <td>1</td>\n",
       "      <td>12.0</td>\n",
       "      <td>2017</td>\n",
       "      <td>7.4</td>\n",
       "      <td>1.45</td>\n",
       "      <td>1.0</td>\n",
       "    </tr>\n",
       "    <tr>\n",
       "      <th>1</th>\n",
       "      <td>1</td>\n",
       "      <td>10039007800</td>\n",
       "      <td>2018</td>\n",
       "      <td>24</td>\n",
       "      <td>24.0</td>\n",
       "      <td>3.10</td>\n",
       "      <td>1</td>\n",
       "      <td>7.0</td>\n",
       "      <td>2018</td>\n",
       "      <td>3.5</td>\n",
       "      <td>1.19</td>\n",
       "      <td>1.0</td>\n",
       "    </tr>\n",
       "    <tr>\n",
       "      <th>2</th>\n",
       "      <td>2</td>\n",
       "      <td>10039013100</td>\n",
       "      <td>2020</td>\n",
       "      <td>0</td>\n",
       "      <td>0.0</td>\n",
       "      <td>0.00</td>\n",
       "      <td>0</td>\n",
       "      <td>71.0</td>\n",
       "      <td>2020</td>\n",
       "      <td>2.6</td>\n",
       "      <td>1.00</td>\n",
       "      <td>0.0</td>\n",
       "    </tr>\n",
       "    <tr>\n",
       "      <th>3</th>\n",
       "      <td>3</td>\n",
       "      <td>10039034400</td>\n",
       "      <td>2019</td>\n",
       "      <td>25</td>\n",
       "      <td>25.0</td>\n",
       "      <td>3.72</td>\n",
       "      <td>1</td>\n",
       "      <td>5.0</td>\n",
       "      <td>2019</td>\n",
       "      <td>2.7</td>\n",
       "      <td>0.88</td>\n",
       "      <td>1.0</td>\n",
       "    </tr>\n",
       "    <tr>\n",
       "      <th>4</th>\n",
       "      <td>4</td>\n",
       "      <td>10039108900</td>\n",
       "      <td>2021</td>\n",
       "      <td>6</td>\n",
       "      <td>6.0</td>\n",
       "      <td>1.63</td>\n",
       "      <td>1</td>\n",
       "      <td>18.0</td>\n",
       "      <td>2021</td>\n",
       "      <td>16.8</td>\n",
       "      <td>2.29</td>\n",
       "      <td>1.0</td>\n",
       "    </tr>\n",
       "  </tbody>\n",
       "</table>\n",
       "</div>"
      ],
      "text/plain": [
       "   Unnamed: 0  Scopus author ID  Most recent publication  Citations  \\\n",
       "0           0       10038895100                     2017         36   \n",
       "1           1       10039007800                     2018         24   \n",
       "2           2       10039013100                     2020          0   \n",
       "3           3       10039034400                     2019         25   \n",
       "4           4       10039108900                     2021          6   \n",
       "\n",
       "   Citations per Publication  Field-Weighted Citation Impact  h-index  \\\n",
       "0                       36.0                            2.13        1   \n",
       "1                       24.0                            3.10        1   \n",
       "2                        0.0                            0.00        0   \n",
       "3                       25.0                            3.72        1   \n",
       "4                        6.0                            1.63        1   \n",
       "\n",
       "   Output in Top 10% Citation Percentiles (field-weighted)  \\\n",
       "0                                               12.0         \n",
       "1                                                7.0         \n",
       "2                                               71.0         \n",
       "3                                                5.0         \n",
       "4                                               18.0         \n",
       "\n",
       "   Oldest publication (since 1996)  CiteScore  SNIP  h-index Ponderado  \n",
       "0                             2017        7.4  1.45                1.0  \n",
       "1                             2018        3.5  1.19                1.0  \n",
       "2                             2020        2.6  1.00                0.0  \n",
       "3                             2019        2.7  0.88                1.0  \n",
       "4                             2021       16.8  2.29                1.0  "
      ]
     },
     "execution_count": 31,
     "metadata": {},
     "output_type": "execute_result"
    }
   ],
   "source": [
    "df = pd.read_excel('AllMetrics.xlsx')\n",
    "df.head()"
   ]
  },
  {
   "cell_type": "code",
   "execution_count": 32,
   "metadata": {},
   "outputs": [
    {
     "data": {
      "text/html": [
       "<div>\n",
       "<style scoped>\n",
       "    .dataframe tbody tr th:only-of-type {\n",
       "        vertical-align: middle;\n",
       "    }\n",
       "\n",
       "    .dataframe tbody tr th {\n",
       "        vertical-align: top;\n",
       "    }\n",
       "\n",
       "    .dataframe thead th {\n",
       "        text-align: right;\n",
       "    }\n",
       "</style>\n",
       "<table border=\"1\" class=\"dataframe\">\n",
       "  <thead>\n",
       "    <tr style=\"text-align: right;\">\n",
       "      <th></th>\n",
       "      <th>Most recent publication</th>\n",
       "      <th>Citations</th>\n",
       "      <th>Citations per Publication</th>\n",
       "      <th>Field-Weighted Citation Impact</th>\n",
       "      <th>h-index</th>\n",
       "      <th>Output in Top 10% Citation Percentiles (field-weighted)</th>\n",
       "      <th>Oldest publication (since 1996)</th>\n",
       "      <th>CiteScore</th>\n",
       "      <th>SNIP</th>\n",
       "      <th>h-index Ponderado</th>\n",
       "    </tr>\n",
       "    <tr>\n",
       "      <th>Scopus author ID</th>\n",
       "      <th></th>\n",
       "      <th></th>\n",
       "      <th></th>\n",
       "      <th></th>\n",
       "      <th></th>\n",
       "      <th></th>\n",
       "      <th></th>\n",
       "      <th></th>\n",
       "      <th></th>\n",
       "      <th></th>\n",
       "    </tr>\n",
       "  </thead>\n",
       "  <tbody>\n",
       "    <tr>\n",
       "      <th>10038895100</th>\n",
       "      <td>2017</td>\n",
       "      <td>36</td>\n",
       "      <td>36.0</td>\n",
       "      <td>2.13</td>\n",
       "      <td>1</td>\n",
       "      <td>12.0</td>\n",
       "      <td>2017</td>\n",
       "      <td>7.4</td>\n",
       "      <td>1.45</td>\n",
       "      <td>1.0</td>\n",
       "    </tr>\n",
       "    <tr>\n",
       "      <th>10039007800</th>\n",
       "      <td>2018</td>\n",
       "      <td>24</td>\n",
       "      <td>24.0</td>\n",
       "      <td>3.10</td>\n",
       "      <td>1</td>\n",
       "      <td>7.0</td>\n",
       "      <td>2018</td>\n",
       "      <td>3.5</td>\n",
       "      <td>1.19</td>\n",
       "      <td>1.0</td>\n",
       "    </tr>\n",
       "    <tr>\n",
       "      <th>10039013100</th>\n",
       "      <td>2020</td>\n",
       "      <td>0</td>\n",
       "      <td>0.0</td>\n",
       "      <td>0.00</td>\n",
       "      <td>0</td>\n",
       "      <td>71.0</td>\n",
       "      <td>2020</td>\n",
       "      <td>2.6</td>\n",
       "      <td>1.00</td>\n",
       "      <td>0.0</td>\n",
       "    </tr>\n",
       "    <tr>\n",
       "      <th>10039034400</th>\n",
       "      <td>2019</td>\n",
       "      <td>25</td>\n",
       "      <td>25.0</td>\n",
       "      <td>3.72</td>\n",
       "      <td>1</td>\n",
       "      <td>5.0</td>\n",
       "      <td>2019</td>\n",
       "      <td>2.7</td>\n",
       "      <td>0.88</td>\n",
       "      <td>1.0</td>\n",
       "    </tr>\n",
       "    <tr>\n",
       "      <th>10039108900</th>\n",
       "      <td>2021</td>\n",
       "      <td>6</td>\n",
       "      <td>6.0</td>\n",
       "      <td>1.63</td>\n",
       "      <td>1</td>\n",
       "      <td>18.0</td>\n",
       "      <td>2021</td>\n",
       "      <td>16.8</td>\n",
       "      <td>2.29</td>\n",
       "      <td>1.0</td>\n",
       "    </tr>\n",
       "  </tbody>\n",
       "</table>\n",
       "</div>"
      ],
      "text/plain": [
       "                  Most recent publication  Citations  \\\n",
       "Scopus author ID                                       \n",
       "10038895100                          2017         36   \n",
       "10039007800                          2018         24   \n",
       "10039013100                          2020          0   \n",
       "10039034400                          2019         25   \n",
       "10039108900                          2021          6   \n",
       "\n",
       "                  Citations per Publication  Field-Weighted Citation Impact  \\\n",
       "Scopus author ID                                                              \n",
       "10038895100                            36.0                            2.13   \n",
       "10039007800                            24.0                            3.10   \n",
       "10039013100                             0.0                            0.00   \n",
       "10039034400                            25.0                            3.72   \n",
       "10039108900                             6.0                            1.63   \n",
       "\n",
       "                  h-index  \\\n",
       "Scopus author ID            \n",
       "10038895100             1   \n",
       "10039007800             1   \n",
       "10039013100             0   \n",
       "10039034400             1   \n",
       "10039108900             1   \n",
       "\n",
       "                  Output in Top 10% Citation Percentiles (field-weighted)  \\\n",
       "Scopus author ID                                                            \n",
       "10038895100                                                    12.0         \n",
       "10039007800                                                     7.0         \n",
       "10039013100                                                    71.0         \n",
       "10039034400                                                     5.0         \n",
       "10039108900                                                    18.0         \n",
       "\n",
       "                  Oldest publication (since 1996)  CiteScore  SNIP  \\\n",
       "Scopus author ID                                                     \n",
       "10038895100                                  2017        7.4  1.45   \n",
       "10039007800                                  2018        3.5  1.19   \n",
       "10039013100                                  2020        2.6  1.00   \n",
       "10039034400                                  2019        2.7  0.88   \n",
       "10039108900                                  2021       16.8  2.29   \n",
       "\n",
       "                  h-index Ponderado  \n",
       "Scopus author ID                     \n",
       "10038895100                     1.0  \n",
       "10039007800                     1.0  \n",
       "10039013100                     0.0  \n",
       "10039034400                     1.0  \n",
       "10039108900                     1.0  "
      ]
     },
     "execution_count": 32,
     "metadata": {},
     "output_type": "execute_result"
    }
   ],
   "source": [
    "df.drop(columns='Unnamed: 0',inplace=True)\n",
    "df.set_index('Scopus author ID',inplace=True)\n",
    "df.head()"
   ]
  },
  {
   "attachments": {},
   "cell_type": "markdown",
   "metadata": {},
   "source": [
    "# Entendimiento de los datos"
   ]
  },
  {
   "attachments": {},
   "cell_type": "markdown",
   "metadata": {},
   "source": [
    "Revisar multicolinealidad entre variables"
   ]
  },
  {
   "cell_type": "code",
   "execution_count": 33,
   "metadata": {},
   "outputs": [
    {
     "data": {
      "image/png": "[encoded data removed]",
      "text/plain": [
       "<Figure size 640x480 with 2 Axes>"
      ]
     },
     "metadata": {},
     "output_type": "display_data"
    }
   ],
   "source": [
    "cols = ['Citations per Publication','Field-Weighted Citation Impact',\n",
    "        'Output in Top 10% Citation Percentiles (field-weighted)',\n",
    "        'CiteScore','SNIP','h-index Ponderado']\n",
    "sns.heatmap(df[cols].corr(),annot=True,vmin=-1,vmax=1,cmap='coolwarm')\n",
    "plt.show()"
   ]
  },
  {
   "attachments": {},
   "cell_type": "markdown",
   "metadata": {},
   "source": [
    "Por la correlación entre SNIP y CiteScore, se quitará una de las columnas para el análisis. También se elimina el h-index ponderado porque se calcula con el h-index que es el target"
   ]
  },
  {
   "cell_type": "code",
   "execution_count": 34,
   "metadata": {},
   "outputs": [],
   "source": [
    "df1 = df.drop(columns=['CiteScore','h-index Ponderado'])"
   ]
  },
  {
   "attachments": {},
   "cell_type": "markdown",
   "metadata": {},
   "source": [
    "# Target h-index"
   ]
  },
  {
   "attachments": {},
   "cell_type": "markdown",
   "metadata": {},
   "source": [
    "## Partición de base de datos"
   ]
  },
  {
   "cell_type": "code",
   "execution_count": 35,
   "metadata": {},
   "outputs": [],
   "source": [
    "target = ['h-index']\n",
    "X = df1.drop(columns=target)\n",
    "Y = df1[target]"
   ]
  },
  {
   "attachments": {},
   "cell_type": "markdown",
   "metadata": {},
   "source": [
    "## Regresión lineal Ordinary Least Squares (OLS)"
   ]
  },
  {
   "cell_type": "code",
   "execution_count": 39,
   "metadata": {},
   "outputs": [
    {
     "name": "stdout",
     "output_type": "stream",
     "text": [
      "                            OLS Regression Results                            \n",
      "==============================================================================\n",
      "Dep. Variable:                h-index   R-squared:                       0.739\n",
      "Model:                            OLS   Adj. R-squared:                  0.739\n",
      "Method:                 Least Squares   F-statistic:                 5.502e+04\n",
      "Date:                Tue, 14 Mar 2023   Prob (F-statistic):               0.00\n",
      "Time:                        17:53:48   Log-Likelihood:            -1.6573e+05\n",
      "No. Observations:              136109   AIC:                         3.315e+05\n",
      "Df Residuals:                  136101   BIC:                         3.316e+05\n",
      "Df Model:                           7                                         \n",
      "Covariance Type:            nonrobust                                         \n",
      "===========================================================================================================================\n",
      "                                                              coef    std err          t      P>|t|      [0.025      0.975]\n",
      "---------------------------------------------------------------------------------------------------------------------------\n",
      "const                                                     229.5882      3.712     61.843      0.000     222.312     236.865\n",
      "Most recent publication                                     0.5476      0.002    262.278      0.000       0.544       0.552\n",
      "Citations                                                   0.0109   3.05e-05    357.378      0.000       0.011       0.011\n",
      "Citations per Publication                                  -0.0174      0.000   -114.393      0.000      -0.018      -0.017\n",
      "Field-Weighted Citation Impact                             -0.0119      0.002     -7.401      0.000      -0.015      -0.009\n",
      "Output in Top 10% Citation Percentiles (field-weighted)    -0.0169      0.000   -116.525      0.000      -0.017      -0.017\n",
      "Oldest publication (since 1996)                            -0.6605      0.002   -331.449      0.000      -0.664      -0.657\n",
      "SNIP                                                        0.0255      0.003      9.638      0.000       0.020       0.031\n",
      "==============================================================================\n",
      "Omnibus:                   168921.510   Durbin-Watson:                   1.972\n",
      "Prob(Omnibus):                  0.000   Jarque-Bera (JB):       1129571447.947\n",
      "Skew:                          -5.475   Prob(JB):                         0.00\n",
      "Kurtosis:                     449.158   Cond. No.                     4.78e+06\n",
      "==============================================================================\n",
      "\n",
      "Notes:\n",
      "[1] Standard Errors assume that the covariance matrix of the errors is correctly specified.\n",
      "[2] The condition number is large, 4.78e+06. This might indicate that there are\n",
      "strong multicollinearity or other numerical problems.\n"
     ]
    }
   ],
   "source": [
    "Xc = sm.add_constant(X) #para obtener la ordenada en el origen\n",
    "model = sm.OLS(Y, Xc) #Ordinary Least Squares\n",
    "results = model.fit()\n",
    "print(results.summary())"
   ]
  },
  {
   "attachments": {},
   "cell_type": "markdown",
   "metadata": {},
   "source": [
    "El R² ajustado es medianamente bueno, pero el Jarque-Bera es demasiado alto, lo que indica que la distribución de los errores no es normal."
   ]
  },
  {
   "attachments": {},
   "cell_type": "markdown",
   "metadata": {},
   "source": [
    "## Regresión lineal con sklearn"
   ]
  },
  {
   "cell_type": "code",
   "execution_count": 90,
   "metadata": {},
   "outputs": [
    {
     "name": "stdout",
     "output_type": "stream",
     "text": [
      "Intercept 232.03543833048323\n",
      "Most recent publication 0.47987143369110885\n",
      "Citations 0.014358644492353391\n",
      "Citations per Publication -0.022352520972993492\n",
      "Field-Weighted Citation Impact -0.015005961750654384\n",
      "Output in Top 10% Citation Percentiles (field-weighted) -0.016499764957493872\n",
      "Oldest publication (since 1996) -0.5939672576201743\n",
      "SNIP 0.02398031763769232\n"
     ]
    }
   ],
   "source": [
    "X_train,X_test,Y_train,Y_test = train_test_split(X,Y,test_size=.30,random_state=0)\n",
    "\n",
    "model = LinearRegression()\n",
    "model.fit(X_train,Y_train)\n",
    "print('Intercept',model.intercept_[0])\n",
    "for i in range(len(X_train.columns)):\n",
    "    print(X_train.columns[i],model.coef_[0][i])"
   ]
  },
  {
   "cell_type": "code",
   "execution_count": 77,
   "metadata": {},
   "outputs": [
    {
     "name": "stdout",
     "output_type": "stream",
     "text": [
      "Puntaje entrenamiento: 0.7746133530804657\n",
      "\n",
      "Puntaje Test: 0.5853119658228102\n",
      "\n",
      "MAE 0.49591855324448153\n",
      "MSE 1.1346388091062436\n"
     ]
    }
   ],
   "source": [
    "predictions = model.predict(X_test)\n",
    "\n",
    "print('Puntaje entrenamiento: {}\\n'.format(model.score(X_train,Y_train)))\n",
    "print('Puntaje Test: {}\\n'.format(model.score(X_test,Y_test)))\n",
    "print('MAE',mean_absolute_error(Y_test, predictions)) #mean absolute error\n",
    "print('MSE',mean_squared_error(Y_test, predictions))  #mean squared error\n"
   ]
  },
  {
   "attachments": {},
   "cell_type": "markdown",
   "metadata": {},
   "source": [
    "El modelo se ajusta moderadamente para el conjunto de entrenamiento, pero no para el de prueba, puede que haya overfitting"
   ]
  },
  {
   "attachments": {},
   "cell_type": "markdown",
   "metadata": {},
   "source": [
    "## Regresión polinomial OLS"
   ]
  },
  {
   "cell_type": "code",
   "execution_count": 81,
   "metadata": {},
   "outputs": [
    {
     "name": "stdout",
     "output_type": "stream",
     "text": [
      "                            OLS Regression Results                            \n",
      "==============================================================================\n",
      "Dep. Variable:                h-index   R-squared:                       0.915\n",
      "Model:                            OLS   Adj. R-squared:                  0.915\n",
      "Method:                 Least Squares   F-statistic:                 1.344e+04\n",
      "Date:                Tue, 14 Mar 2023   Prob (F-statistic):               0.00\n",
      "Time:                        18:48:39   Log-Likelihood:                -89306.\n",
      "No. Observations:              136109   AIC:                         1.788e+05\n",
      "Df Residuals:                  135999   BIC:                         1.799e+05\n",
      "Df Model:                         109                                         \n",
      "Covariance Type:            nonrobust                                         \n",
      "==============================================================================\n",
      "                 coef    std err          t      P>|t|      [0.025      0.975]\n",
      "------------------------------------------------------------------------------\n",
      "const         -0.0446      0.003    -12.838      0.000      -0.051      -0.038\n",
      "x1           -18.9263      1.474    -12.840      0.000     -21.815     -16.037\n",
      "x2             0.0968      0.066      1.475      0.140      -0.032       0.226\n",
      "x3            -0.0455      0.014     -3.372      0.001      -0.072      -0.019\n",
      "x4            -0.0103      0.001     -9.563      0.000      -0.012      -0.008\n",
      "x5            -0.3097      0.034     -9.057      0.000      -0.377      -0.243\n",
      "x6           -18.9285      1.474    -12.842      0.000     -21.817     -16.040\n",
      "x7            -0.0109      0.001    -11.750      0.000      -0.013      -0.009\n",
      "x8            15.2616      5.539      2.755      0.006       4.405      26.118\n",
      "x9            -1.0897      0.170     -6.402      0.000      -1.423      -0.756\n",
      "x10           15.3790      0.736     20.893      0.000      13.936      16.822\n",
      "x11            4.0008      7.748      0.516      0.606     -11.185      19.186\n",
      "x12            5.1743      0.432     11.980      0.000       4.328       6.021\n",
      "x13          -30.5311     11.084     -2.754      0.006     -52.256      -8.806\n",
      "x14           -0.6279      9.156     -0.069      0.945     -18.574      17.318\n",
      "x15            0.0119      0.000     32.201      0.000       0.011       0.013\n",
      "x16           -0.1305      0.003    -37.455      0.000      -0.137      -0.124\n",
      "x17            1.3947      0.065     21.576      0.000       1.268       1.521\n",
      "x18            0.2489      0.016     15.921      0.000       0.218       0.280\n",
      "x19            1.0840      0.170      6.367      0.000       0.750       1.418\n",
      "x20           -0.0511      0.205     -0.249      0.803      -0.453       0.351\n",
      "x21            0.1160      0.004     30.187      0.000       0.108       0.124\n",
      "x22           -1.4749      0.083    -17.806      0.000      -1.637      -1.313\n",
      "x23           -0.5011      0.036    -14.107      0.000      -0.571      -0.431\n",
      "x24          -15.3710      0.736    -20.881      0.000     -16.814     -13.928\n",
      "x25            0.0163      0.261      0.063      0.950      -0.495       0.528\n",
      "x26            2.3015      0.172     13.343      0.000       1.963       2.640\n",
      "x27          -11.4772      0.416    -27.576      0.000     -12.293     -10.661\n",
      "x28           -4.0337      7.748     -0.521      0.603     -19.220      11.153\n",
      "x29          -12.5268      1.645     -7.616      0.000     -15.750      -9.303\n",
      "x30           -0.0356      0.010     -3.401      0.001      -0.056      -0.015\n",
      "x31           -5.1738      0.432    -11.978      0.000      -6.020      -4.327\n",
      "x32           -0.6900      0.192     -3.585      0.000      -1.067      -0.313\n",
      "x33           15.3071      5.545      2.761      0.006       4.439      26.175\n",
      "x34            0.6428      9.156      0.070      0.944     -17.304      18.589\n",
      "x35            2.2011      0.822      2.678      0.007       0.590       3.812\n",
      "x36            0.0262      0.002     13.186      0.000       0.022       0.030\n",
      "x37           -0.0005   4.15e-05    -10.902      0.000      -0.001      -0.000\n",
      "x38            0.0032      0.000     13.831      0.000       0.003       0.004\n",
      "x39           -0.0006      0.003     -0.191      0.848      -0.007       0.006\n",
      "x40           -0.0003      0.000     -1.649      0.099      -0.001    5.22e-05\n",
      "x41           -0.0864      0.004    -20.454      0.000      -0.095      -0.078\n",
      "x42            0.0087      0.004      2.300      0.021       0.001       0.016\n",
      "x43         1.784e-06   3.75e-08     47.565      0.000    1.71e-06    1.86e-06\n",
      "x44         -2.25e-05   1.53e-06    -14.659      0.000   -2.55e-05   -1.95e-05\n",
      "x45            0.0005   3.47e-05     14.422      0.000       0.000       0.001\n",
      "x46        -9.846e-05   4.93e-06    -19.966      0.000      -0.000   -8.88e-05\n",
      "x47            0.0014   8.27e-05     17.500      0.000       0.001       0.002\n",
      "x48           -0.0004   6.53e-05     -6.371      0.000      -0.001      -0.000\n",
      "x49         4.711e-05   3.27e-06     14.424      0.000    4.07e-05    5.35e-05\n",
      "x50           -0.0008    9.7e-05     -8.673      0.000      -0.001      -0.001\n",
      "x51           -0.0003   1.84e-05    -13.982      0.000      -0.000      -0.000\n",
      "x52           -0.0140      0.000    -33.569      0.000      -0.015      -0.013\n",
      "x53            0.0029      0.000     15.984      0.000       0.003       0.003\n",
      "x54           -0.0005      0.000     -3.473      0.001      -0.001      -0.000\n",
      "x55           -0.0004      0.000     -1.454      0.146      -0.001       0.000\n",
      "x56           -0.0007      0.004     -0.172      0.863      -0.009       0.008\n",
      "x57           -0.0022      0.002     -1.026      0.305      -0.006       0.002\n",
      "x58           -0.0002   9.75e-06    -16.642      0.000      -0.000      -0.000\n",
      "x59           -0.0020      0.000     -8.118      0.000      -0.002      -0.002\n",
      "x60            0.0009      0.000      4.126      0.000       0.000       0.001\n",
      "x61            0.0941      0.004     24.221      0.000       0.086       0.102\n",
      "x62           -0.0172      0.005     -3.390      0.001      -0.027      -0.007\n",
      "x63           -0.0037      0.000     -7.975      0.000      -0.005      -0.003\n",
      "x64         4.472e-10   3.19e-12    140.378      0.000    4.41e-10    4.53e-10\n",
      "x65         1.592e-07   2.32e-09     68.506      0.000    1.55e-07    1.64e-07\n",
      "x66        -1.802e-06   4.79e-08    -37.576      0.000    -1.9e-06   -1.71e-06\n",
      "x67        -1.422e-07   4.86e-09    -29.272      0.000   -1.52e-07   -1.33e-07\n",
      "x68        -7.667e-06   1.82e-07    -42.174      0.000   -8.02e-06   -7.31e-06\n",
      "x69         2.525e-06   3.59e-08     70.318      0.000    2.45e-06     2.6e-06\n",
      "x70        -5.244e-07   1.26e-08    -41.510      0.000   -5.49e-07      -5e-07\n",
      "x71         1.512e-05   4.56e-07     33.134      0.000    1.42e-05     1.6e-05\n",
      "x72         1.807e-06   1.35e-07     13.357      0.000    1.54e-06    2.07e-06\n",
      "x73         8.709e-05   2.15e-06     40.577      0.000    8.29e-05    9.13e-05\n",
      "x74         -1.16e-06   1.94e-06     -0.597      0.551   -4.97e-06    2.65e-06\n",
      "x75        -2.413e-05   2.64e-06     -9.153      0.000   -2.93e-05    -1.9e-05\n",
      "x76           -0.0001   3.63e-06    -30.279      0.000      -0.000      -0.000\n",
      "x77           -0.0012   2.79e-05    -42.739      0.000      -0.001      -0.001\n",
      "x78           -0.0003   3.73e-05     -7.209      0.000      -0.000      -0.000\n",
      "x79        -5.962e-06   3.45e-07    -17.269      0.000   -6.64e-06   -5.29e-06\n",
      "x80        -2.445e-05   6.67e-06     -3.664      0.000   -3.75e-05   -1.14e-05\n",
      "x81        -2.408e-05   6.68e-06     -3.606      0.000   -3.72e-05    -1.1e-05\n",
      "x82           -0.0010   7.25e-05    -13.673      0.000      -0.001      -0.001\n",
      "x83            0.0004   8.49e-05      5.186      0.000       0.000       0.001\n",
      "x84            0.0004   2.97e-05     13.659      0.000       0.000       0.000\n",
      "x85         3.677e-07   1.18e-08     31.077      0.000    3.45e-07    3.91e-07\n",
      "x86        -1.312e-05   4.58e-07    -28.644      0.000    -1.4e-05   -1.22e-05\n",
      "x87         6.465e-06   4.09e-07     15.792      0.000    5.66e-06    7.27e-06\n",
      "x88           -0.0001   3.45e-06    -30.315      0.000      -0.000   -9.78e-05\n",
      "x89         -4.15e-06   2.04e-06     -2.029      0.042   -8.16e-06   -1.41e-07\n",
      "x90         2.967e-06   3.74e-06      0.794      0.427   -4.36e-06    1.03e-05\n",
      "x91            0.0001   1.13e-05     10.682      0.000    9.86e-05       0.000\n",
      "x92            0.0016   9.24e-05     17.009      0.000       0.001       0.002\n",
      "x93            0.0003   3.78e-05      8.236      0.000       0.000       0.000\n",
      "x94         3.322e-05   1.13e-06     29.405      0.000     3.1e-05    3.54e-05\n",
      "x95            0.0005   2.15e-05     23.490      0.000       0.000       0.001\n",
      "x96        -9.852e-05   1.43e-05     -6.884      0.000      -0.000   -7.05e-05\n",
      "x97            0.0108      0.000     34.062      0.000       0.010       0.011\n",
      "x98           -0.0029      0.000    -15.379      0.000      -0.003      -0.003\n",
      "x99           -0.0004    3.4e-05    -11.508      0.000      -0.000      -0.000\n",
      "x100       -7.125e-07   6.16e-07     -1.157      0.247   -1.92e-06    4.94e-07\n",
      "x101         3.15e-05   3.83e-05      0.822      0.411   -4.36e-05       0.000\n",
      "x102          -0.0006      0.000     -4.093      0.000      -0.001      -0.000\n",
      "x103       -9.522e-05   6.24e-05     -1.525      0.127      -0.000    2.72e-05\n",
      "x104           0.0007   1.61e-05     43.487      0.000       0.001       0.001\n",
      "x105           0.0061      0.000     30.436      0.000       0.006       0.006\n",
      "x106           0.0015      0.000      9.228      0.000       0.001       0.002\n",
      "x107           0.0014      0.002      0.553      0.580      -0.003       0.006\n",
      "x108           0.0084      0.002      4.082      0.000       0.004       0.012\n",
      "x109          -0.0002   6.66e-05     -3.735      0.000      -0.000      -0.000\n",
      "x110        4.593e-07   3.93e-07      1.169      0.243   -3.11e-07    1.23e-06\n",
      "x111           0.0002   9.49e-06     18.959      0.000       0.000       0.000\n",
      "x112        4.201e-05    7.2e-06      5.836      0.000    2.79e-05    5.61e-05\n",
      "x113           0.0023      0.000     14.386      0.000       0.002       0.003\n",
      "x114          -0.0006      0.000     -2.596      0.009      -0.001      -0.000\n",
      "x115       -6.547e-05   1.74e-05     -3.754      0.000   -9.97e-05   -3.13e-05\n",
      "x116          -0.0339      0.002    -19.440      0.000      -0.037      -0.031\n",
      "x117           0.0084      0.003      2.858      0.004       0.003       0.014\n",
      "x118           0.0026      0.000      8.072      0.000       0.002       0.003\n",
      "x119           0.0002   2.98e-05      8.018      0.000       0.000       0.000\n",
      "==============================================================================\n",
      "Omnibus:                    39887.684   Durbin-Watson:                   1.986\n",
      "Prob(Omnibus):                  0.000   Jarque-Bera (JB):          6097143.838\n",
      "Skew:                           0.107   Prob(JB):                         0.00\n",
      "Kurtosis:                      35.788   Cond. No.                     1.35e+18\n",
      "==============================================================================\n",
      "\n",
      "Notes:\n",
      "[1] Standard Errors assume that the covariance matrix of the errors is correctly specified.\n",
      "[2] The smallest eigenvalue is 2.03e-11. This might indicate that there are\n",
      "strong multicollinearity problems or that the design matrix is singular.\n"
     ]
    }
   ],
   "source": [
    "polynomial_features= PolynomialFeatures(degree=3)\n",
    "Xp = polynomial_features.fit_transform(X)\n",
    "Xpc = sm.add_constant(Xp) #para obtener la ordenada en el origen\n",
    "model = sm.OLS(Y, Xpc) #Ordinary Least Squares\n",
    "results = model.fit()\n",
    "print(results.summary())"
   ]
  },
  {
   "attachments": {},
   "cell_type": "markdown",
   "metadata": {},
   "source": [
    "## Regresión polinomial con sklearn"
   ]
  },
  {
   "cell_type": "code",
   "execution_count": 87,
   "metadata": {},
   "outputs": [
    {
     "name": "stdout",
     "output_type": "stream",
     "text": [
      "Puntaje entrenamiento: 0.9172437577242047\n",
      "\n",
      "Puntaje Test: -57.880164133897736\n",
      "\n",
      "MAE 0.3943706427651803\n",
      "MSE 161.103561730262\n"
     ]
    }
   ],
   "source": [
    "Xp_train,Xp_test,Yp_train,Yp_test = train_test_split(Xp,Y,test_size=.30,random_state=0)\n",
    "\n",
    "model = LinearRegression()  \n",
    "model.fit(Xp_train,Yp_train)  \n",
    "predictions = model.predict(Xp_test)\n",
    "print('Puntaje entrenamiento: {}\\n'.format(model.score(Xp_train,Yp_train)))\n",
    "print('Puntaje Test: {}\\n'.format(model.score(Xp_test,Yp_test)))\n",
    "print('MAE',mean_absolute_error(Yp_test, predictions)) #mean absolute error\n",
    "print('MSE',mean_squared_error(Yp_test, predictions))  #mean squared error"
   ]
  },
  {
   "attachments": {},
   "cell_type": "markdown",
   "metadata": {},
   "source": [
    "## Regresión con kNN"
   ]
  },
  {
   "cell_type": "code",
   "execution_count": 93,
   "metadata": {},
   "outputs": [
    {
     "name": "stdout",
     "output_type": "stream",
     "text": [
      "Puntaje entrenamiento: 0.9596444494551726\n",
      "\n",
      "Puntaje Test: 0.9252853291889218\n",
      "\n",
      "MAE 0.17683736193764849\n",
      "MSE 0.20442877084710892\n"
     ]
    }
   ],
   "source": [
    "scaler = StandardScaler()\n",
    "transformed_X=scaler.fit_transform(X)\n",
    "\n",
    "X_train,X_test,y_train,y_test = train_test_split(transformed_X,Y,test_size=.30,random_state=0)\n",
    "\n",
    "model = KNeighborsRegressor(5,metric='euclidean')  \n",
    "model.fit(X_train,y_train)  \n",
    "predictions = model.predict(X_test)\n",
    "\n",
    "print('Puntaje entrenamiento: {}\\n'.format(model.score(X_train,y_train)))\n",
    "print('Puntaje Test: {}\\n'.format(model.score(X_test,y_test)))\n",
    "print('MAE',mean_absolute_error(y_test, predictions)) #mean absolute error\n",
    "print('MSE',mean_squared_error(y_test, predictions))  #mean squared error"
   ]
  },
  {
   "attachments": {},
   "cell_type": "markdown",
   "metadata": {},
   "source": [
    "## Regresión con Árbol de decisión"
   ]
  },
  {
   "cell_type": "code",
   "execution_count": 96,
   "metadata": {},
   "outputs": [
    {
     "name": "stdout",
     "output_type": "stream",
     "text": [
      "Puntaje entrenamiento: 0.7199930682880363\n",
      "\n",
      "Puntaje Test: 0.6831586591987986\n",
      "\n",
      "MAE 0.47721921293878394\n",
      "MSE 0.8669179044811592\n"
     ]
    }
   ],
   "source": [
    "X_train,X_test,y_train,y_test = train_test_split(X,Y,test_size=.30,random_state=0)\n",
    "\n",
    "model = DecisionTreeRegressor(max_depth=3)  \n",
    "model.fit(X_train,y_train)  \n",
    "predictions = model.predict(X_test)\n",
    "\n",
    "print('Puntaje entrenamiento: {}\\n'.format(model.score(X_train,y_train)))\n",
    "print('Puntaje Test: {}\\n'.format(model.score(X_test,y_test)))\n",
    "print('MAE',mean_absolute_error(y_test, predictions)) #mean absolute error\n",
    "print('MSE',mean_squared_error(y_test, predictions))  #mean squared error"
   ]
  },
  {
   "attachments": {},
   "cell_type": "markdown",
   "metadata": {},
   "source": [
    "## Regresión con Random Forest"
   ]
  },
  {
   "cell_type": "code",
   "execution_count": 99,
   "metadata": {},
   "outputs": [
    {
     "name": "stderr",
     "output_type": "stream",
     "text": [
      "/tmp/ipykernel_14200/3934460837.py:2: DataConversionWarning: A column-vector y was passed when a 1d array was expected. Please change the shape of y to (n_samples,), for example using ravel().\n",
      "  model.fit(X_train,y_train)\n"
     ]
    },
    {
     "name": "stdout",
     "output_type": "stream",
     "text": [
      "MAE: 0.1579790241216545\n",
      "train score 0.9479475797998975\n",
      "test score 0.9305616614952619\n"
     ]
    }
   ],
   "source": [
    "model = RandomForestRegressor(max_depth=10,max_leaf_nodes=50,random_state=0)\n",
    "model.fit(X_train,y_train)\n",
    "\n",
    "predictions = model.predict(X_test)\n",
    "print('MAE:',mean_absolute_error(y_test, predictions))\n",
    "print('train score',model.score(X_train,y_train))\n",
    "print('test score',model.score(X_test,y_test))"
   ]
  }
 ],
 "metadata": {
  "kernelspec": {
   "display_name": "Python 3",
   "language": "python",
   "name": "python3"
  },
  "language_info": {
   "codemirror_mode": {
    "name": "ipython",
    "version": 3
   },
   "file_extension": ".py",
   "mimetype": "text/x-python",
   "name": "python",
   "nbconvert_exporter": "python",
   "pygments_lexer": "ipython3",
   "version": "3.10.6"
  },
  "orig_nbformat": 4
 },
 "nbformat": 4,
 "nbformat_minor": 2
}
